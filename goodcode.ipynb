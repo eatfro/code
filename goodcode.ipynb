{
 "cells": [
  {
   "cell_type": "code",
   "execution_count": 2,
   "id": "0fbcda57",
   "metadata": {},
   "outputs": [],
   "source": [
    "var1 = \"pyton\"\n",
    "var2 = 75\n",
    "var3 = 3.5"
   ]
  },
  {
   "cell_type": "code",
   "execution_count": 1,
   "id": "45f6a871",
   "metadata": {},
   "outputs": [
    {
     "name": "stdout",
     "output_type": "stream",
     "text": [
      "welcome to python\n",
      "I am glad you are learning it \n",
      "All the best\n"
     ]
    }
   ],
   "source": [
    "print(\"welcome to python\")\n",
    "print(\"I am glad you are learning it \")\n",
    "print(\"All the best\")\n"
   ]
  },
  {
   "cell_type": "code",
   "execution_count": 3,
   "id": "4dfffa33",
   "metadata": {},
   "outputs": [
    {
     "name": "stdout",
     "output_type": "stream",
     "text": [
      "pyton\n",
      "75\n",
      "3.5\n"
     ]
    }
   ],
   "source": [
    "print(var1)\n",
    "print(var2)\n",
    "print(var3)"
   ]
  }
 ],
 "metadata": {
  "kernelspec": {
   "display_name": "base",
   "language": "python",
   "name": "python3"
  },
  "language_info": {
   "codemirror_mode": {
    "name": "ipython",
    "version": 3
   },
   "file_extension": ".py",
   "mimetype": "text/x-python",
   "name": "python",
   "nbconvert_exporter": "python",
   "pygments_lexer": "ipython3",
   "version": "3.9.13"
  }
 },
 "nbformat": 4,
 "nbformat_minor": 5
}
