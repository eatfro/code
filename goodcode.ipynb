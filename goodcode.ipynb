{
 "cells": [
  {
   "cell_type": "code",
   "execution_count": 2,
   "id": "0fbcda57",
   "metadata": {},
   "outputs": [],
   "source": [
    "var1 = \"pyton\"\n",
    "var2 = 75\n",
    "var3 = 3.5"
   ]
  },
  {
   "cell_type": "code",
   "execution_count": 1,
   "id": "45f6a871",
   "metadata": {},
   "outputs": [
    {
     "name": "stdout",
     "output_type": "stream",
     "text": [
      "welcome to python\n",
      "I am glad you are learning it \n",
      "All the best\n"
     ]
    }
   ],
   "source": [
    "print(\"welcome to python\")\n",
    "print(\"I am glad you are learning it \")\n",
    "print(\"All the best\")\n"
   ]
  },
  {
   "cell_type": "code",
   "execution_count": 3,
   "id": "4dfffa33",
   "metadata": {},
   "outputs": [
    {
     "name": "stdout",
     "output_type": "stream",
     "text": [
      "pyton\n",
      "75\n",
      "3.5\n"
     ]
    }
   ],
   "source": [
    "print(var1)\n",
    "print(var2)\n",
    "print(var3)"
   ]
  },
  {
   "cell_type": "code",
   "execution_count": 1,
   "id": "f69b057f",
   "metadata": {},
   "outputs": [],
   "source": [
    "a = b = c = 65"
   ]
  },
  {
   "cell_type": "code",
   "execution_count": 2,
   "id": "6f56bbea",
   "metadata": {},
   "outputs": [
    {
     "name": "stdout",
     "output_type": "stream",
     "text": [
      "65\n",
      "65\n",
      "65\n"
     ]
    }
   ],
   "source": [
    "print(a)\n",
    "print(b)\n",
    "print(c)"
   ]
  },
  {
   "cell_type": "code",
   "execution_count": 3,
   "id": "2755a093",
   "metadata": {},
   "outputs": [],
   "source": [
    "w, x, y, z = \"alpha\", \"beta\", 12, 5.4"
   ]
  },
  {
   "cell_type": "code",
   "execution_count": 4,
   "id": "2a19b204",
   "metadata": {},
   "outputs": [
    {
     "name": "stdout",
     "output_type": "stream",
     "text": [
      "Variable W value is  alpha\n",
      "Variable x value is  beta\n",
      "Variable y value is  12\n",
      "Variable z value is  5.4\n"
     ]
    }
   ],
   "source": [
    "print(\"Variable W value is \", w)\n",
    "print(\"Variable x value is \", x)\n",
    "print(\"Variable y value is \", y)\n",
    "print(\"Variable z value is \", z)"
   ]
  },
  {
   "cell_type": "code",
   "execution_count": 7,
   "id": "073600a8",
   "metadata": {},
   "outputs": [],
   "source": [
    "first_list = [\"DevOps\", 47, 1.5] "
   ]
  },
  {
   "cell_type": "code",
   "execution_count": 8,
   "id": "222ffce8",
   "metadata": {},
   "outputs": [
    {
     "name": "stdout",
     "output_type": "stream",
     "text": [
      "['DevOps', 47, 1.5]\n"
     ]
    }
   ],
   "source": [
    "print(first_list)"
   ]
  },
  {
   "cell_type": "code",
   "execution_count": 9,
   "id": "345cb4bd",
   "metadata": {},
   "outputs": [],
   "source": [
    "first_tuple = (\"DevOps\", 47, 1.5 )"
   ]
  },
  {
   "cell_type": "code",
   "execution_count": 10,
   "id": "f6f6a373",
   "metadata": {},
   "outputs": [
    {
     "name": "stdout",
     "output_type": "stream",
     "text": [
      "('DevOps', 47, 1.5)\n"
     ]
    }
   ],
   "source": [
    "print(first_tuple)"
   ]
  },
  {
   "cell_type": "code",
   "execution_count": 11,
   "id": "74935640",
   "metadata": {},
   "outputs": [],
   "source": [
    "first_dictionary = {\"name\": \"willie\", \"Weight\":230 , \"race\":\"black\"}"
   ]
  },
  {
   "cell_type": "code",
   "execution_count": 12,
   "id": "2b58cf9d",
   "metadata": {},
   "outputs": [],
   "source": [
    "good = True\n",
    "bad = False"
   ]
  },
  {
   "cell_type": "code",
   "execution_count": 13,
   "id": "71cd7bd4",
   "metadata": {},
   "outputs": [
    {
     "name": "stdout",
     "output_type": "stream",
     "text": [
      "True\n",
      "False\n"
     ]
    }
   ],
   "source": [
    "print(good)\n",
    "print(bad)"
   ]
  },
  {
   "cell_type": "code",
   "execution_count": 14,
   "id": "348b9c3d",
   "metadata": {},
   "outputs": [],
   "source": [
    "name = \"sars_cov_2\"\n",
    "disease = \"covid19\" \n"
   ]
  },
  {
   "cell_type": "code",
   "execution_count": 16,
   "id": "36e3ccbc",
   "metadata": {},
   "outputs": [
    {
     "name": "stdout",
     "output_type": "stream",
     "text": [
      "The name os virus sars_cov_2\n",
      "The name of virus is sars_cov_2\n",
      "The name of virus is sars_cov_2 and it causes covid19\n"
     ]
    }
   ],
   "source": [
    "print(\"The name os virus\", name)\n",
    "print(\"The name of virus is {}\".format(name))\n",
    "print(\"The name of virus is {} and it causes {}\".format(name,disease))"
   ]
  },
  {
   "cell_type": "code",
   "execution_count": 17,
   "id": "cbc3d889",
   "metadata": {},
   "outputs": [
    {
     "name": "stdout",
     "output_type": "stream",
     "text": [
      "The name of virus is sars_cov_2 and it causes covid19\n"
     ]
    }
   ],
   "source": [
    "print(f\"The name of virus is {name} and it causes {disease}\")"
   ]
  },
  {
   "cell_type": "code",
   "execution_count": 18,
   "id": "4b874b9b",
   "metadata": {},
   "outputs": [],
   "source": [
    "devops = (\"Linux\", \"Vagrant\", \"Bash scripting\", \"AWS\", \"Jenkins\", \"python\", \"ansible\")"
   ]
  },
  {
   "cell_type": "code",
   "execution_count": 24,
   "id": "b9608dd3",
   "metadata": {},
   "outputs": [
    {
     "name": "stdout",
     "output_type": "stream",
     "text": [
      "Linux\n",
      "Jenkins\n",
      "ansible\n",
      "('Bash scripting', 'AWS', 'Jenkins')\n",
      "Bash scripting\n",
      "script\n"
     ]
    }
   ],
   "source": [
    "print(devops[0])\n",
    "print(devops[4])\n",
    "print(devops[-1])\n",
    "print(devops[2:5])\n",
    "\n",
    "print(devops[2:5][0])\n",
    "print(devops[2:5][0][5:11])"
   ]
  },
  {
   "cell_type": "code",
   "execution_count": 25,
   "id": "b864adf0",
   "metadata": {},
   "outputs": [],
   "source": [
    "skill = {\"devop\": (\"AWS\", \"Jenkins\", \"python\", \"ansible\"), \"Development\": [\"java\", \"NodeJS\", \".net\"]}"
   ]
  },
  {
   "cell_type": "code",
   "execution_count": 29,
   "id": "4c561d03",
   "metadata": {},
   "outputs": [
    {
     "name": "stdout",
     "output_type": "stream",
     "text": [
      "('AWS', 'Jenkins', 'python', 'ansible')\n",
      "['java', 'NodeJS', '.net']\n"
     ]
    }
   ],
   "source": [
    "print(skill[\"devop\"])\n",
    "print(skill[\"Development\"])"
   ]
  }
 ],
 "metadata": {
  "kernelspec": {
   "display_name": "base",
   "language": "python",
   "name": "python3"
  },
  "language_info": {
   "codemirror_mode": {
    "name": "ipython",
    "version": 3
   },
   "file_extension": ".py",
   "mimetype": "text/x-python",
   "name": "python",
   "nbconvert_exporter": "python",
   "pygments_lexer": "ipython3",
   "version": "3.9.13"
  }
 },
 "nbformat": 4,
 "nbformat_minor": 5
}
