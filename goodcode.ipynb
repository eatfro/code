{
 "cells": [
  {
   "cell_type": "code",
   "execution_count": 2,
   "id": "0fbcda57",
   "metadata": {},
   "outputs": [],
   "source": [
    "var1 = \"pyton\"\n",
    "var2 = 75\n",
    "var3 = 3.5"
   ]
  },
  {
   "cell_type": "code",
   "execution_count": 1,
   "id": "45f6a871",
   "metadata": {},
   "outputs": [
    {
     "name": "stdout",
     "output_type": "stream",
     "text": [
      "welcome to python\n",
      "I am glad you are learning it \n",
      "All the best\n"
     ]
    }
   ],
   "source": [
    "print(\"welcome to python\")\n",
    "print(\"I am glad you are learning it \")\n",
    "print(\"All the best\")\n"
   ]
  },
  {
   "cell_type": "code",
   "execution_count": 3,
   "id": "4dfffa33",
   "metadata": {},
   "outputs": [
    {
     "name": "stdout",
     "output_type": "stream",
     "text": [
      "pyton\n",
      "75\n",
      "3.5\n"
     ]
    }
   ],
   "source": [
    "print(var1)\n",
    "print(var2)\n",
    "print(var3)"
   ]
  },
  {
   "cell_type": "code",
   "execution_count": 1,
   "id": "f69b057f",
   "metadata": {},
   "outputs": [],
   "source": [
    "a = b = c = 65"
   ]
  },
  {
   "cell_type": "code",
   "execution_count": 2,
   "id": "6f56bbea",
   "metadata": {},
   "outputs": [
    {
     "name": "stdout",
     "output_type": "stream",
     "text": [
      "65\n",
      "65\n",
      "65\n"
     ]
    }
   ],
   "source": [
    "print(a)\n",
    "print(b)\n",
    "print(c)"
   ]
  },
  {
   "cell_type": "code",
   "execution_count": 3,
   "id": "2755a093",
   "metadata": {},
   "outputs": [],
   "source": [
    "w, x, y, z = \"alpha\", \"beta\", 12, 5.4"
   ]
  },
  {
   "cell_type": "code",
   "execution_count": 4,
   "id": "2a19b204",
   "metadata": {},
   "outputs": [
    {
     "name": "stdout",
     "output_type": "stream",
     "text": [
      "Variable W value is  alpha\n",
      "Variable x value is  beta\n",
      "Variable y value is  12\n",
      "Variable z value is  5.4\n"
     ]
    }
   ],
   "source": [
    "print(\"Variable W value is \", w)\n",
    "print(\"Variable x value is \", x)\n",
    "print(\"Variable y value is \", y)\n",
    "print(\"Variable z value is \", z)"
   ]
  },
  {
   "cell_type": "code",
   "execution_count": 7,
   "id": "073600a8",
   "metadata": {},
   "outputs": [],
   "source": [
    "first_list = [\"DevOps\", 47, 1.5] "
   ]
  },
  {
   "cell_type": "code",
   "execution_count": 8,
   "id": "222ffce8",
   "metadata": {},
   "outputs": [
    {
     "name": "stdout",
     "output_type": "stream",
     "text": [
      "['DevOps', 47, 1.5]\n"
     ]
    }
   ],
   "source": [
    "print(first_list)"
   ]
  },
  {
   "cell_type": "code",
   "execution_count": 9,
   "id": "345cb4bd",
   "metadata": {},
   "outputs": [],
   "source": [
    "first_tuple = (\"DevOps\", 47, 1.5 )"
   ]
  },
  {
   "cell_type": "code",
   "execution_count": 10,
   "id": "f6f6a373",
   "metadata": {},
   "outputs": [
    {
     "name": "stdout",
     "output_type": "stream",
     "text": [
      "('DevOps', 47, 1.5)\n"
     ]
    }
   ],
   "source": [
    "print(first_tuple)"
   ]
  },
  {
   "cell_type": "code",
   "execution_count": 11,
   "id": "74935640",
   "metadata": {},
   "outputs": [],
   "source": [
    "first_dictionary = {\"name\": \"willie\", \"Weight\":230 , \"race\":\"black\"}"
   ]
  },
  {
   "cell_type": "code",
   "execution_count": 12,
   "id": "2b58cf9d",
   "metadata": {},
   "outputs": [],
   "source": [
    "good = True\n",
    "bad = False"
   ]
  },
  {
   "cell_type": "code",
   "execution_count": 13,
   "id": "71cd7bd4",
   "metadata": {},
   "outputs": [
    {
     "name": "stdout",
     "output_type": "stream",
     "text": [
      "True\n",
      "False\n"
     ]
    }
   ],
   "source": [
    "print(good)\n",
    "print(bad)"
   ]
  },
  {
   "cell_type": "code",
   "execution_count": 14,
   "id": "348b9c3d",
   "metadata": {},
   "outputs": [],
   "source": [
    "name = \"sars_cov_2\"\n",
    "disease = \"covid19\" \n"
   ]
  }
 ],
 "metadata": {
  "kernelspec": {
   "display_name": "base",
   "language": "python",
   "name": "python3"
  },
  "language_info": {
   "codemirror_mode": {
    "name": "ipython",
    "version": 3
   },
   "file_extension": ".py",
   "mimetype": "text/x-python",
   "name": "python",
   "nbconvert_exporter": "python",
   "pygments_lexer": "ipython3",
   "version": "3.9.13"
  }
 },
 "nbformat": 4,
 "nbformat_minor": 5
}
